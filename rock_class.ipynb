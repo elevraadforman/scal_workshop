{
 "cells": [
  {
   "cell_type": "markdown",
   "metadata": {},
   "source": [
    "# Rock class"
   ]
  },
  {
   "cell_type": "markdown",
   "metadata": {},
   "source": [
    "We create a Python class called **Rock** that represents a rock sample and has three attributes: \n",
    "* rock_type\n",
    "* porosity\n",
    "* permeability\n",
    "\n",
    "The class has an __init__() method that is called when a new object of the class is created. \n",
    "\n",
    "Initialization: __init__() method is a special method that initializes the object. This method is called automatically when an object of a class is created.\n",
    "\n",
    "The __init__() method takes three arguments: rock_type, porosity, and permeability, and initializes the corresponding attributes of the object.\n",
    "To actually see that __init__ is called we ask for printing a text. \n",
    "\n",
    "The class also has a method called print_properties(), which takes no arguments and prints the values of the rock_type, porosity, and permeability attributes"
   ]
  },
  {
   "cell_type": "code",
   "execution_count": 1,
   "metadata": {},
   "outputs": [],
   "source": [
    "class Rock:\n",
    "    \"\"\"\n",
    "    A class representing a rock-type.\n",
    "\n",
    "    Attributes(properties):\n",
    "    -----------\n",
    "    rock_type: string\n",
    "        the type of rock \n",
    "    \n",
    "    porosity: float\n",
    "\n",
    "    \"\"\"\n",
    "\n",
    "    def __init__(self, rock_type: str, porosity: float, permeability: int):\n",
    "        self.rock_type = rock_type\n",
    "        self.porosity = porosity\n",
    "        self.permeability = permeability\n",
    "        print('A new object of class Rock is created')\n",
    "\n",
    "    def print_properties(self):\n",
    "        \"\"\"\n",
    "        A method to print the properties of a rock.\n",
    "        \"\"\"\n",
    "        print(f\"Rock type: {self.rock_type}, Porosity: {self.porosity}, Permeability: {self.permeability}mD\")"
   ]
  },
  {
   "cell_type": "markdown",
   "metadata": {},
   "source": [
    "Let's create an object!"
   ]
  },
  {
   "cell_type": "code",
   "execution_count": 3,
   "metadata": {},
   "outputs": [
    {
     "name": "stdout",
     "output_type": "stream",
     "text": [
      "A new object of class Rock is created\n",
      "A new object of class Rock is created\n",
      "A new object of class Rock is created\n"
     ]
    }
   ],
   "source": [
    "#Bentheimer = Rock()\n",
    "Berea = Rock(\"sandstone\", 0.21, 400)\n",
    "Austin_chalk= Rock(\"chalk\", 0.38, 50)\n",
    "Bachalau_carbonate = Rock(\"carbonate\", 0.29, 1000)"
   ]
  },
  {
   "cell_type": "markdown",
   "metadata": {},
   "source": [
    "Let's look at one of the properties for *Berea sample*"
   ]
  },
  {
   "cell_type": "code",
   "execution_count": 7,
   "metadata": {},
   "outputs": [
    {
     "data": {
      "text/plain": [
       "0.21"
      ]
     },
     "execution_count": 7,
     "metadata": {},
     "output_type": "execute_result"
    }
   ],
   "source": [
    "\n",
    "Berea.porosity"
   ]
  },
  {
   "cell_type": "markdown",
   "metadata": {},
   "source": [
    "Let's as for printing the properties - by running the Rock class method *print_properties*"
   ]
  },
  {
   "cell_type": "code",
   "execution_count": 8,
   "metadata": {},
   "outputs": [
    {
     "name": "stdout",
     "output_type": "stream",
     "text": [
      "Rock type: sandstone, Porosity: 0.21, Permeability: 400mD\n"
     ]
    }
   ],
   "source": [
    "Berea.print_properties()"
   ]
  },
  {
   "cell_type": "code",
   "execution_count": null,
   "metadata": {},
   "outputs": [],
   "source": []
  }
 ],
 "metadata": {
  "kernelspec": {
   "display_name": "root",
   "language": "python",
   "name": "python3"
  },
  "language_info": {
   "codemirror_mode": {
    "name": "ipython",
    "version": 3
   },
   "file_extension": ".py",
   "mimetype": "text/x-python",
   "name": "python",
   "nbconvert_exporter": "python",
   "pygments_lexer": "ipython3",
   "version": "3.8.18"
  }
 },
 "nbformat": 4,
 "nbformat_minor": 2
}
